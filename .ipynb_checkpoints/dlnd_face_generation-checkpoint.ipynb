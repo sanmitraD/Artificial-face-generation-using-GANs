{
 "cells": [
  {
   "cell_type": "markdown",
   "metadata": {
    "colab_type": "text",
    "id": "gNQny7XIdi7z"
   },
   "source": [
    "# Face Generation\n",
    "\n",
    "In this project, you'll define and train a DCGAN on a dataset of faces. Your goal is to get a generator network to generate *new* images of faces that look as realistic as possible!\n",
    "\n",
    "The project will be broken down into a series of tasks from **loading in data to defining and training adversarial networks**. At the end of the notebook, you'll be able to visualize the results of your trained Generator to see how it performs; your generated samples should look like fairly realistic faces with small amounts of noise.\n",
    "\n",
    "### Get the Data\n",
    "\n",
    "You'll be using the [CelebFaces Attributes Dataset (CelebA)](http://mmlab.ie.cuhk.edu.hk/projects/CelebA.html) to train your adversarial networks.\n",
    "\n",
    "This dataset is more complex than the number datasets (like MNIST or SVHN) you've been working with, and so, you should prepare to define deeper networks and train them for a longer time to get good results. It is suggested that you utilize a GPU for training.\n",
    "\n",
    "### Pre-processed Data\n",
    "\n",
    "Since the project's main focus is on building the GANs, we've done *some* of the pre-processing for you. Each of the CelebA images has been cropped to remove parts of the image that don't include a face, then resized down to 64x64x3 NumPy images. Some sample data is show below.\n",
    "\n",
    "<img src='assets/processed_face_data.png' width=60% />\n",
    "\n",
    "> If you are working locally, you can download this data [by clicking here](https://s3.amazonaws.com/video.udacity-data.com/topher/2018/November/5be7eb6f_processed-celeba-small/processed-celeba-small.zip)\n",
    "\n",
    "This is a zip file that you'll need to extract in the home directory of this notebook for further loading and processing. After extracting the data, you should be left with a directory of data `processed_celeba_small/`"
   ]
  },
  {
   "cell_type": "code",
   "execution_count": 0,
   "metadata": {
    "colab": {
     "base_uri": "https://localhost:8080/",
     "height": 231
    },
    "colab_type": "code",
    "id": "4QYNcQksdi71",
    "outputId": "37323a09-ccea-4417-b3ac-87fd124d3d74"
   },
   "outputs": [
    {
     "name": "stdout",
     "output_type": "stream",
     "text": [
      "--2019-05-08 13:03:39--  https://s3.amazonaws.com/video.udacity-data.com/topher/2018/November/5be7eb6f_processed-celeba-small/processed-celeba-small.zip\n",
      "Resolving s3.amazonaws.com (s3.amazonaws.com)... 54.231.33.218\n",
      "Connecting to s3.amazonaws.com (s3.amazonaws.com)|54.231.33.218|:443... connected.\n",
      "HTTP request sent, awaiting response... 200 OK\n",
      "Length: 247694507 (236M) [application/zip]\n",
      "Saving to: ‘processed-celeba-small.zip’\n",
      "\n",
      "processed-celeba-sm 100%[===================>] 236.22M  50.5MB/s    in 4.6s    \n",
      "\n",
      "2019-05-08 13:03:44 (51.1 MB/s) - ‘processed-celeba-small.zip’ saved [247694507/247694507]\n",
      "\n"
     ]
    }
   ],
   "source": [
    "# can comment out after executing\n",
    "!wget 'https://s3.amazonaws.com/video.udacity-data.com/topher/2018/November/5be7eb6f_processed-celeba-small/processed-celeba-small.zip'"
   ]
  },
  {
   "cell_type": "code",
   "execution_count": 0,
   "metadata": {
    "colab": {},
    "colab_type": "code",
    "id": "MmBvPMUhfz7u"
   },
   "outputs": [],
   "source": [
    "!unzip processed-celeba-small.zip"
   ]
  },
  {
   "cell_type": "code",
   "execution_count": 0,
   "metadata": {
    "colab": {},
    "colab_type": "code",
    "id": "taihJ7Yedi7_"
   },
   "outputs": [],
   "source": [
    "data_dir = 'processed_celeba_small/'\n",
    "\n",
    "\"\"\"\n",
    "DON'T MODIFY ANYTHING IN THIS CELL\n",
    "\"\"\"\n",
    "import pickle as pkl\n",
    "import matplotlib.pyplot as plt\n",
    "import numpy as np\n",
    "import problem_unittests as tests\n",
    "#import helper\n",
    "\n",
    "%matplotlib inline"
   ]
  },
  {
   "cell_type": "markdown",
   "metadata": {
    "colab_type": "text",
    "id": "GQe9tmwDdi8F"
   },
   "source": [
    "## Visualize the CelebA Data\n",
    "\n",
    "The [CelebA](http://mmlab.ie.cuhk.edu.hk/projects/CelebA.html) dataset contains over 200,000 celebrity images with annotations. Since you're going to be generating faces, you won't need the annotations, you'll only need the images. Note that these are color images with [3 color channels (RGB)](https://en.wikipedia.org/wiki/Channel_(digital_image)#RGB_Images) each.\n",
    "\n",
    "### Pre-process and Load the Data\n",
    "\n",
    "Since the project's main focus is on building the GANs, we've done *some* of the pre-processing for you. Each of the CelebA images has been cropped to remove parts of the image that don't include a face, then resized down to 64x64x3 NumPy images. This *pre-processed* dataset is a smaller subset of the very large CelebA data.\n",
    "\n",
    "> There are a few other steps that you'll need to **transform** this data and create a **DataLoader**.\n",
    "\n",
    "#### Exercise: Complete the following `get_dataloader` function, such that it satisfies these requirements:\n",
    "\n",
    "* Your images should be square, Tensor images of size `image_size x image_size` in the x and y dimension.\n",
    "* Your function should return a DataLoader that shuffles and batches these Tensor images.\n",
    "\n",
    "#### ImageFolder\n",
    "\n",
    "To create a dataset given a directory of images, it's recommended that you use PyTorch's [ImageFolder](https://pytorch.org/docs/stable/torchvision/datasets.html#imagefolder) wrapper, with a root directory `processed_celeba_small/` and data transformation passed in."
   ]
  },
  {
   "cell_type": "code",
   "execution_count": 0,
   "metadata": {
    "colab": {},
    "colab_type": "code",
    "id": "KnJjr_s2di8H"
   },
   "outputs": [],
   "source": [
    "# necessary imports\n",
    "import torch\n",
    "from torchvision import datasets\n",
    "from torchvision import transforms\n",
    "from torch.utils.data import DataLoader"
   ]
  },
  {
   "cell_type": "code",
   "execution_count": 0,
   "metadata": {
    "colab": {},
    "colab_type": "code",
    "id": "QoMuJcTDdi8K"
   },
   "outputs": [],
   "source": [
    "def get_dataloader(batch_size, image_size, data_dir='processed_celeba_small/'):\n",
    "    \"\"\"\n",
    "    Batch the neural network data using DataLoader\n",
    "    :param batch_size: The size of each batch; the number of images in a batch\n",
    "    :param img_size: The square size of the image data (x, y)\n",
    "    :param data_dir: Directory where image data is located\n",
    "    :return: DataLoader with batched data\n",
    "    \"\"\"\n",
    "    data_transforms = transforms.Compose([\n",
    "        transforms.Resize(image_size),\n",
    "        transforms.CenterCrop(image_size),\n",
    "        transforms.ToTensor()\n",
    "    ])\n",
    "    \n",
    "    dataFolder = datasets.ImageFolder(data_dir, transform = data_transforms)\n",
    "    \n",
    "    dataloader = DataLoader(dataFolder, batch_size = batch_size, shuffle=True)\n",
    "    # TODO: Implement function and return a dataloader\n",
    "    \n",
    "    return dataloader\n"
   ]
  },
  {
   "cell_type": "markdown",
   "metadata": {
    "colab_type": "text",
    "id": "-hZZ2D3Tdi8M"
   },
   "source": [
    "## Create a DataLoader\n",
    "\n",
    "#### Exercise: Create a DataLoader `celeba_train_loader` with appropriate hyperparameters.\n",
    "\n",
    "Call the above function and create a dataloader to view images. \n",
    "* You can decide on any reasonable `batch_size` parameter\n",
    "* Your `image_size` **must be** `32`. Resizing the data to a smaller size will make for faster training, while still creating convincing images of faces!"
   ]
  },
  {
   "cell_type": "code",
   "execution_count": 0,
   "metadata": {
    "colab": {},
    "colab_type": "code",
    "id": "ZbNKiM0sdi8N"
   },
   "outputs": [],
   "source": [
    "# Define function hyperparameters\n",
    "batch_size = 128\n",
    "img_size = 32\n",
    "\"\"\"\n",
    "DON'T MODIFY ANYTHING IN THIS CELL THAT IS BELOW THIS LINE\n",
    "\"\"\"\n",
    "# Call your function and get a dataloader\n",
    "celeba_train_loader = get_dataloader(batch_size, img_size)\n"
   ]
  },
  {
   "cell_type": "markdown",
   "metadata": {
    "colab_type": "text",
    "id": "IKYcOS3edi8P"
   },
   "source": [
    "Next, you can view some images! You should seen square images of somewhat-centered faces.\n",
    "\n",
    "Note: You'll need to convert the Tensor images into a NumPy type and transpose the dimensions to correctly display an image, suggested `imshow` code is below, but it may not be perfect."
   ]
  },
  {
   "cell_type": "code",
   "execution_count": 5,
   "metadata": {
    "colab": {
     "base_uri": "https://localhost:8080/",
     "height": 271
    },
    "colab_type": "code",
    "id": "mUH9eL5Ydi8Q",
    "outputId": "e9b8d8c0-f804-4234-907d-2446bd4a3a33"
   },
   "outputs": [
    {
     "data": {
      "image/png": "[encoded data removed]",
      "text/plain": [
       "<Figure size 1440x288 with 20 Axes>"
      ]
     },
     "metadata": {
      "tags": []
     },
     "output_type": "display_data"
    }
   ],
   "source": [
    "# helper display function\n",
    "def imshow(img):\n",
    "    npimg = img.numpy()\n",
    "    plt.imshow(np.transpose(npimg, (1, 2, 0)))\n",
    "\n",
    "\"\"\"\n",
    "DON'T MODIFY ANYTHING IN THIS CELL THAT IS BELOW THIS LINE\n",
    "\"\"\"\n",
    "# obtain one batch of training images\n",
    "dataiter = iter(celeba_train_loader)\n",
    "images, _ = dataiter.next() # _ for no labels\n",
    "\n",
    "# plot the images in the batch, along with the corresponding labels\n",
    "fig = plt.figure(figsize=(20, 4))\n",
    "plot_size=20\n",
    "for idx in np.arange(plot_size):\n",
    "    ax = fig.add_subplot(2, plot_size/2, idx+1, xticks=[], yticks=[])\n",
    "    imshow(images[idx])"
   ]
  },
  {
   "cell_type": "markdown",
   "metadata": {
    "colab_type": "text",
    "id": "oCV3BoQUdi8S"
   },
   "source": [
    "#### Exercise: Pre-process your image data and scale it to a pixel range of -1 to 1\n",
    "\n",
    "You need to do a bit of pre-processing; you know that the output of a `tanh` activated generator will contain pixel values in a range from -1 to 1, and so, we need to rescale our training images to a range of -1 to 1. (Right now, they are in a range from 0-1.)"
   ]
  },
  {
   "cell_type": "code",
   "execution_count": 6,
   "metadata": {
    "colab": {
     "base_uri": "https://localhost:8080/",
     "height": 52
    },
    "colab_type": "code",
    "id": "OoiP-UyGm8FN",
    "outputId": "3366b139-e04b-46dc-9b78-d33aaf789173"
   },
   "outputs": [
    {
     "name": "stdout",
     "output_type": "stream",
     "text": [
      "Min:  tensor(0.)\n",
      "Max:  tensor(1.)\n"
     ]
    }
   ],
   "source": [
    "\n",
    "img = images[0]\n",
    "\n",
    "print('Min: ', img.min())\n",
    "print('Max: ', img.max())"
   ]
  },
  {
   "cell_type": "code",
   "execution_count": 0,
   "metadata": {
    "colab": {},
    "colab_type": "code",
    "id": "pLdFewkMdi8T"
   },
   "outputs": [],
   "source": [
    "# TODO: Complete the scale function\n",
    "def scale(x, feature_range=(-1, 1)):\n",
    "    ''' Scale takes in an image x and returns that image, scaled\n",
    "       with a feature_range of pixel values from -1 to 1. \n",
    "       This function assumes that the input x is already scaled from 0-1.'''\n",
    "    # assume x is scaled to (0, 1)\n",
    "    # scale to feature_range and return scaled x\n",
    "    min_i, max_i = feature_range\n",
    "    x = x * (max_i - min_i)+ min_i\n",
    "    \n",
    "    return x\n"
   ]
  },
  {
   "cell_type": "code",
   "execution_count": 8,
   "metadata": {
    "colab": {
     "base_uri": "https://localhost:8080/",
     "height": 52
    },
    "colab_type": "code",
    "id": "NoUbcBJndi8W",
    "outputId": "4d4bf95f-f163-42b8-ca36-b1eae6a74ffe"
   },
   "outputs": [
    {
     "name": "stdout",
     "output_type": "stream",
     "text": [
      "Min:  tensor(-1.)\n",
      "Max:  tensor(1.)\n"
     ]
    }
   ],
   "source": [
    "\"\"\"\n",
    "DON'T MODIFY ANYTHING IN THIS CELL THAT IS BELOW THIS LINE\n",
    "\"\"\"\n",
    "# check scaled range\n",
    "# should be close to -1 to 1\n",
    "img = images[0]\n",
    "scaled_img = scale(img)\n",
    "\n",
    "print('Min: ', scaled_img.min())\n",
    "print('Max: ', scaled_img.max())"
   ]
  },
  {
   "cell_type": "markdown",
   "metadata": {
    "colab_type": "text",
    "id": "auceRKVGdi8Z"
   },
   "source": [
    "---\n",
    "# Define the Model\n",
    "\n",
    "A GAN is comprised of two adversarial networks, a discriminator and a generator.\n",
    "\n",
    "## Discriminator\n",
    "\n",
    "Your first task will be to define the discriminator. This is a convolutional classifier like you've built before, only without any maxpooling layers. To deal with this complex data, it's suggested you use a deep network with **normalization**. You are also allowed to create any helper functions that may be useful.\n",
    "\n",
    "#### Exercise: Complete the Discriminator class\n",
    "* The inputs to the discriminator are 32x32x3 tensor images\n",
    "* The output should be a single value that will indicate whether a given image is real or fake\n"
   ]
  },
  {
   "cell_type": "code",
   "execution_count": 0,
   "metadata": {
    "colab": {},
    "colab_type": "code",
    "id": "Nz5dBMMxdi8a"
   },
   "outputs": [],
   "source": [
    "import torch.nn as nn\n",
    "import torch.nn.functional as F"
   ]
  },
  {
   "cell_type": "code",
   "execution_count": 0,
   "metadata": {
    "colab": {},
    "colab_type": "code",
    "id": "7F_biKdjnhIY"
   },
   "outputs": [],
   "source": [
    "def conv(in_channels, out_channels, kernel_size, stride=2, padding=1, batch_norm=True):\n",
    "    layers = []\n",
    "    \n",
    "    conv_layer = nn.Conv2d(in_channels, out_channels, kernel_size, stride, padding, bias=False)\n",
    "    \n",
    "    #add to layers\n",
    "    layers.append(conv_layer)\n",
    "    \n",
    "    if batch_norm:\n",
    "        #adding batchnorm 2d layer\n",
    "        \n",
    "        layers.append(nn.BatchNorm2d(out_channels))\n",
    "    \n",
    "    #using Sequential container\n",
    "    return nn.Sequential(*layers)\n",
    "    "
   ]
  },
  {
   "cell_type": "code",
   "execution_count": 11,
   "metadata": {
    "colab": {
     "base_uri": "https://localhost:8080/",
     "height": 35
    },
    "colab_type": "code",
    "id": "KS4kCz8Udi8d",
    "outputId": "3e6cebd5-305d-4015-80b3-12ba44cc4adb"
   },
   "outputs": [
    {
     "name": "stdout",
     "output_type": "stream",
     "text": [
      "Tests Passed\n"
     ]
    }
   ],
   "source": [
    "class Discriminator(nn.Module):\n",
    "\n",
    "    def __init__(self, conv_dim):\n",
    "        \"\"\"\n",
    "        Initialize the Discriminator Module\n",
    "        :param conv_dim: The depth of the first convolutional layer\n",
    "        \"\"\"\n",
    "        super(Discriminator, self).__init__()\n",
    "        \n",
    "        self.conv_dim = conv_dim\n",
    "        \n",
    "        self.conv1 = conv(3, conv_dim,4,batch_norm=False)#input: 32 X 32 X 3 ==> output: 16 X 16 X conv_dim\n",
    "        \n",
    "        self.conv2 = conv(conv_dim, conv_dim*2, 4) #input: 16 X 16 X conv_dim ==> output: 8 X 8 X conv_dim*2\n",
    "        \n",
    "        self.conv3 = conv(conv_dim*2, conv_dim*4, 4) #input: 8 X 8 X conv_dim*2 ==> output: 4 X 4 X conv_dim*4\n",
    "        \n",
    "        self.conv4 = conv(conv_dim*4, conv_dim*8, 4) #input: 4 X 4 X conv_dim*4 ==> output: 2 X 2 X conv_dim*8\n",
    "        #fully connected layer\n",
    "        self.fc = nn.Linear(2*2*(conv_dim*8), 1)\n",
    "        \n",
    "\n",
    "    def forward(self, x):\n",
    "        \"\"\"\n",
    "        Forward propagation of the neural network\n",
    "        :param x: The input to the neural network     \n",
    "        :return: Discriminator logits; the output of the neural network\n",
    "        \"\"\"\n",
    "        # defining feedforward behavior\n",
    "        \n",
    "        out = F.leaky_relu(self.conv1(x), 0.2)\n",
    "        out = F.leaky_relu(self.conv2(out), 0.2)\n",
    "        out = F.leaky_relu(self.conv3(out), 0.2)\n",
    "        out = F.leaky_relu(self.conv4(out), 0.2)\n",
    "        #flattening the tensor\n",
    "        out = out.view(-1, 2*2*(self.conv_dim*8))\n",
    "        \n",
    "        #output of final fc layer\n",
    "        out = self.fc(out)\n",
    "        \n",
    "        return out\n",
    "\n",
    "\n",
    "\"\"\"\n",
    "DON'T MODIFY ANYTHING IN THIS CELL THAT IS BELOW THIS LINE\n",
    "\"\"\"\n",
    "tests.test_discriminator(Discriminator)"
   ]
  },
  {
   "cell_type": "markdown",
   "metadata": {
    "colab_type": "text",
    "id": "wGljhJ-gdi8g"
   },
   "source": [
    "## Generator\n",
    "\n",
    "The generator should upsample an input and generate a *new* image of the same size as our training data `32x32x3`. This should be mostly transpose convolutional layers with normalization applied to the outputs.\n",
    "\n",
    "#### Exercise: Complete the Generator class\n",
    "* The inputs to the generator are vectors of some length `z_size`\n",
    "* The output should be a image of shape `32x32x3`"
   ]
  },
  {
   "cell_type": "code",
   "execution_count": 0,
   "metadata": {
    "colab": {},
    "colab_type": "code",
    "id": "tcF8Polirw73"
   },
   "outputs": [],
   "source": [
    "#helper function deconv\n",
    "\n",
    "def deconv(in_channels, out_channels, kernel_size, stride=2, padding=1, batch_norm=True):\n",
    "    '''It creates a transposed convolution later with or without batch normalization.'''\n",
    "    \n",
    "    layers = []\n",
    "    \n",
    "    transpose_conv_layer = nn.ConvTranspose2d(in_channels, out_channels, kernel_size, stride, padding, bias = False)\n",
    "    \n",
    "    layers.append(transpose_conv_layer)\n",
    "    \n",
    "    if batch_norm:\n",
    "        # appending a 2d batch normalization layer\n",
    "        layers.append(nn.BatchNorm2d(out_channels))\n",
    "        \n",
    "    return nn.Sequential(*layers)"
   ]
  },
  {
   "cell_type": "code",
   "execution_count": 13,
   "metadata": {
    "colab": {
     "base_uri": "https://localhost:8080/",
     "height": 35
    },
    "colab_type": "code",
    "id": "tB2UkgwHdi8h",
    "outputId": "bce18fad-7715-400a-ad71-bcece91050e8"
   },
   "outputs": [
    {
     "name": "stdout",
     "output_type": "stream",
     "text": [
      "Tests Passed\n"
     ]
    }
   ],
   "source": [
    "class Generator(nn.Module):\n",
    "    \n",
    "    def __init__(self, z_size, conv_dim):\n",
    "        \"\"\"\n",
    "        Initialize the Generator Module\n",
    "        :param z_size: The length of the input latent vector, z\n",
    "        :param conv_dim: The depth of the inputs to the *last* transpose convolutional layer\n",
    "        \"\"\"\n",
    "        super(Generator, self).__init__()\n",
    "\n",
    "        self.z_size = z_size\n",
    "        self.conv_dim = conv_dim\n",
    "        \n",
    "        #first fully connected layer\n",
    "        \n",
    "        self.fc = nn.Linear(z_size, conv_dim*8*2*2)\n",
    "        \n",
    "        #transposed Convolution layers\n",
    "        self.t_conv0 = deconv(conv_dim*8, conv_dim*4, 4)\n",
    "        self.t_conv1 = deconv(conv_dim*4, conv_dim*2, 4)        #input: 4 X 4 X conv_dim*4 ==> output: 8 X 8 X conv_dim*2\n",
    "        self.t_conv2 = deconv(conv_dim*2, conv_dim, 4)          #input: 8 X 8 X conv_dim*2 ==> output: 16 X 16 X conv_dim\n",
    "        self.t_conv3 = deconv(conv_dim, 3, 4, batch_norm=False) #input: 16 X 16 X conv_dim ==> output: 32 X 32 X 3\n",
    "        \n",
    "        \n",
    "\n",
    "    def forward(self, x):\n",
    "        \"\"\"\n",
    "        Forward propagation of the neural network\n",
    "        :param x: The input to the neural network     \n",
    "        :return: A 32x32x3 Tensor image as output\n",
    "        \"\"\"\n",
    "        # defining feedforward behavior\n",
    "        out = self.fc(x)\n",
    "        \n",
    "        out = out.view(-1, self.conv_dim*8, 2, 2) # (Batch_Size, Depth, 2, 2)\n",
    "        out = F.relu(self.t_conv0(out))\n",
    "        out = F.relu(self.t_conv1(out))\n",
    "        out = F.relu(self.t_conv2(out))\n",
    "        \n",
    "        #last layer with tanh activation\n",
    "        out = self.t_conv3(out)\n",
    "        out = torch.tanh(out)  #as F.tanh is deprecated using torch.tanh\n",
    "        return out\n",
    "\n",
    "\"\"\"\n",
    "DON'T MODIFY ANYTHING IN THIS CELL THAT IS BELOW THIS LINE\n",
    "\"\"\"\n",
    "tests.test_generator(Generator)"
   ]
  },
  {
   "cell_type": "markdown",
   "metadata": {
    "colab_type": "text",
    "id": "3QFIuoU1di8k"
   },
   "source": [
    "## Initialize the weights of your networks\n",
    "\n",
    "To help your models converge, you should initialize the weights of the convolutional and linear layers in your model. From reading the [original DCGAN paper](https://arxiv.org/pdf/1511.06434.pdf), they say:\n",
    "> All weights were initialized from a zero-centered Normal distribution with standard deviation 0.02.\n",
    "\n",
    "So, your next task will be to define a weight initialization function that does just this!\n",
    "\n",
    "You can refer back to the lesson on weight initialization or even consult existing model code, such as that from [the `networks.py` file in CycleGAN Github repository](https://github.com/junyanz/pytorch-CycleGAN-and-pix2pix/blob/master/models/networks.py) to help you complete this function.\n",
    "\n",
    "#### Exercise: Complete the weight initialization function\n",
    "\n",
    "* This should initialize only **convolutional** and **linear** layers\n",
    "* Initialize the weights to a normal distribution, centered around 0, with a standard deviation of 0.02.\n",
    "* The bias terms, if they exist, may be left alone or set to 0."
   ]
  },
  {
   "cell_type": "code",
   "execution_count": 0,
   "metadata": {
    "colab": {},
    "colab_type": "code",
    "id": "5tplWgkedi8l"
   },
   "outputs": [],
   "source": [
    "from torch.nn import init\n",
    "\n",
    "def weights_init_normal(m):\n",
    "    \"\"\"\n",
    "    Applies initial weights to certain layers in a model .\n",
    "    The weights are taken from a normal distribution \n",
    "    with mean = 0, std dev = 0.02.\n",
    "    :param m: A module or layer in a network    \n",
    "    \"\"\"\n",
    "    # classname will be something like:\n",
    "    # `Conv`, `BatchNorm2d`, `Linear`, etc.\n",
    "    classname = m.__class__.__name__\n",
    "    \n",
    "    if hasattr(m, 'weight') and (classname.find('Conv')!=-1 or classname.find('Linear')!=-1):\n",
    "        init.normal_(m.weight.data, mean=0.0, std=0.02)\n",
    "        \n",
    "        if hasattr(m, 'bias') and m.bias is not None:\n",
    "            m.bias.data.zero_()\n",
    "    \n",
    "    "
   ]
  },
  {
   "cell_type": "markdown",
   "metadata": {
    "colab_type": "text",
    "collapsed": true,
    "id": "3_C3U8vrdi8n"
   },
   "source": [
    "## Build complete network\n",
    "\n",
    "Define your models' hyperparameters and instantiate the discriminator and generator from the classes defined above. Make sure you've passed in the correct input arguments."
   ]
  },
  {
   "cell_type": "code",
   "execution_count": 0,
   "metadata": {
    "colab": {},
    "colab_type": "code",
    "id": "52373ybDdi8p"
   },
   "outputs": [],
   "source": [
    "\"\"\"\n",
    "DON'T MODIFY ANYTHING IN THIS CELL THAT IS BELOW THIS LINE\n",
    "\"\"\"\n",
    "def build_network(d_conv_dim, g_conv_dim, z_size):\n",
    "    # define discriminator and generator\n",
    "    D = Discriminator(d_conv_dim)\n",
    "    G = Generator(z_size=z_size, conv_dim=g_conv_dim)\n",
    "\n",
    "    # initialize model weights\n",
    "    D.apply(weights_init_normal)\n",
    "    G.apply(weights_init_normal)\n",
    "\n",
    "    print(D)\n",
    "    print()\n",
    "    print(G)\n",
    "    \n",
    "    return D, G\n"
   ]
  },
  {
   "cell_type": "markdown",
   "metadata": {
    "colab_type": "text",
    "id": "20UgMg2Xdi8s"
   },
   "source": [
    "#### Exercise: Define model hyperparameters"
   ]
  },
  {
   "cell_type": "code",
   "execution_count": 16,
   "metadata": {
    "colab": {
     "base_uri": "https://localhost:8080/",
     "height": 668
    },
    "colab_type": "code",
    "id": "142Ox22ydi8t",
    "outputId": "6754035a-690d-4fc0-a1a8-91c4b6663313"
   },
   "outputs": [
    {
     "name": "stdout",
     "output_type": "stream",
     "text": [
      "Discriminator(\n",
      "  (conv1): Sequential(\n",
      "    (0): Conv2d(3, 64, kernel_size=(4, 4), stride=(2, 2), padding=(1, 1), bias=False)\n",
      "  )\n",
      "  (conv2): Sequential(\n",
      "    (0): Conv2d(64, 128, kernel_size=(4, 4), stride=(2, 2), padding=(1, 1), bias=False)\n",
      "    (1): BatchNorm2d(128, eps=1e-05, momentum=0.1, affine=True, track_running_stats=True)\n",
      "  )\n",
      "  (conv3): Sequential(\n",
      "    (0): Conv2d(128, 256, kernel_size=(4, 4), stride=(2, 2), padding=(1, 1), bias=False)\n",
      "    (1): BatchNorm2d(256, eps=1e-05, momentum=0.1, affine=True, track_running_stats=True)\n",
      "  )\n",
      "  (conv4): Sequential(\n",
      "    (0): Conv2d(256, 512, kernel_size=(4, 4), stride=(2, 2), padding=(1, 1), bias=False)\n",
      "    (1): BatchNorm2d(512, eps=1e-05, momentum=0.1, affine=True, track_running_stats=True)\n",
      "  )\n",
      "  (fc): Linear(in_features=2048, out_features=1, bias=True)\n",
      ")\n",
      "\n",
      "Generator(\n",
      "  (fc): Linear(in_features=100, out_features=2048, bias=True)\n",
      "  (t_conv0): Sequential(\n",
      "    (0): ConvTranspose2d(512, 256, kernel_size=(4, 4), stride=(2, 2), padding=(1, 1), bias=False)\n",
      "    (1): BatchNorm2d(256, eps=1e-05, momentum=0.1, affine=True, track_running_stats=True)\n",
      "  )\n",
      "  (t_conv1): Sequential(\n",
      "    (0): ConvTranspose2d(256, 128, kernel_size=(4, 4), stride=(2, 2), padding=(1, 1), bias=False)\n",
      "    (1): BatchNorm2d(128, eps=1e-05, momentum=0.1, affine=True, track_running_stats=True)\n",
      "  )\n",
      "  (t_conv2): Sequential(\n",
      "    (0): ConvTranspose2d(128, 64, kernel_size=(4, 4), stride=(2, 2), padding=(1, 1), bias=False)\n",
      "    (1): BatchNorm2d(64, eps=1e-05, momentum=0.1, affine=True, track_running_stats=True)\n",
      "  )\n",
      "  (t_conv3): Sequential(\n",
      "    (0): ConvTranspose2d(64, 3, kernel_size=(4, 4), stride=(2, 2), padding=(1, 1), bias=False)\n",
      "  )\n",
      ")\n"
     ]
    }
   ],
   "source": [
    "# Define model hyperparams\n",
    "d_conv_dim = 64\n",
    "g_conv_dim = 64\n",
    "z_size = 100\n",
    "\n",
    "\"\"\"\n",
    "DON'T MODIFY ANYTHING IN THIS CELL THAT IS BELOW THIS LINE\n",
    "\"\"\"\n",
    "D, G = build_network(d_conv_dim, g_conv_dim, z_size)"
   ]
  },
  {
   "cell_type": "markdown",
   "metadata": {
    "colab_type": "text",
    "id": "E3Bky1stdi8v"
   },
   "source": [
    "### Training on GPU\n",
    "\n",
    "Check if you can train on GPU. Here, we'll set this as a boolean variable `train_on_gpu`. Later, you'll be responsible for making sure that \n",
    ">* Models,\n",
    "* Model inputs, and\n",
    "* Loss function arguments\n",
    "\n",
    "Are moved to GPU, where appropriate."
   ]
  },
  {
   "cell_type": "code",
   "execution_count": 17,
   "metadata": {
    "colab": {
     "base_uri": "https://localhost:8080/",
     "height": 35
    },
    "colab_type": "code",
    "id": "Jm29Y5Jjdi8w",
    "outputId": "2f0b6879-dfa6-45cf-ab0a-0b89d457f78c"
   },
   "outputs": [
    {
     "name": "stdout",
     "output_type": "stream",
     "text": [
      "Training on GPU!\n"
     ]
    }
   ],
   "source": [
    "\"\"\"\n",
    "DON'T MODIFY ANYTHING IN THIS CELL\n",
    "\"\"\"\n",
    "import torch\n",
    "\n",
    "# Check for a GPU\n",
    "train_on_gpu = torch.cuda.is_available()\n",
    "if not train_on_gpu:\n",
    "    print('No GPU found. Please use a GPU to train your neural network.')\n",
    "else:\n",
    "    print('Training on GPU!')"
   ]
  },
  {
   "cell_type": "markdown",
   "metadata": {
    "colab_type": "text",
    "id": "qG7ejRFXdi8y"
   },
   "source": [
    "---\n",
    "## Discriminator and Generator Losses\n",
    "\n",
    "Now we need to calculate the losses for both types of adversarial networks.\n",
    "\n",
    "### Discriminator Losses\n",
    "\n",
    "> * For the discriminator, the total loss is the sum of the losses for real and fake images, `d_loss = d_real_loss + d_fake_loss`. \n",
    "* Remember that we want the discriminator to output 1 for real images and 0 for fake images, so we need to set up the losses to reflect that.\n",
    "\n",
    "\n",
    "### Generator Loss\n",
    "\n",
    "The generator loss will look similar only with flipped labels. The generator's goal is to get the discriminator to *think* its generated images are *real*.\n",
    "\n",
    "#### Exercise: Complete real and fake loss functions\n",
    "\n",
    "**You may choose to use either cross entropy or a least squares error loss to complete the following `real_loss` and `fake_loss` functions.**"
   ]
  },
  {
   "cell_type": "code",
   "execution_count": 0,
   "metadata": {
    "colab": {},
    "colab_type": "code",
    "id": "4dDPD7xbdi80"
   },
   "outputs": [],
   "source": [
    "def real_loss(D_out, smooth=False):\n",
    "    '''Calculates how close discriminator outputs are to being real.\n",
    "       param, D_out: discriminator logits\n",
    "       return: real loss'''\n",
    "    \n",
    "    batch_size  = D_out.size(0)\n",
    "    \n",
    "    labels = torch.ones(batch_size)\n",
    "    \n",
    "    if smooth:\n",
    "        labels = labels*0.9\n",
    "    if train_on_gpu:\n",
    "        labels = labels.cuda()\n",
    "        \n",
    "    # using binary cross entropy loss with logits loss\n",
    "    criterion = nn.BCEWithLogitsLoss()\n",
    "    loss = criterion(D_out.squeeze(), labels)\n",
    "    \n",
    "    return loss\n",
    "\n",
    "def fake_loss(D_out):\n",
    "    '''Calculates how close discriminator outputs are to being fake.\n",
    "       param, D_out: discriminator logits\n",
    "       return: fake loss'''\n",
    "    \n",
    "    batch_size = D_out.size(0)\n",
    "    \n",
    "    labels = torch.zeros(batch_size)\n",
    "    \n",
    "    if train_on_gpu:\n",
    "        labels = labels.cuda()\n",
    "        \n",
    "    criterion = nn.BCEWithLogitsLoss()\n",
    "    loss = criterion(D_out.squeeze(), labels)\n",
    "    \n",
    "    return loss"
   ]
  },
  {
   "cell_type": "markdown",
   "metadata": {
    "colab_type": "text",
    "id": "_YvE7QDUdi84"
   },
   "source": [
    "## Optimizers\n",
    "\n",
    "#### Exercise: Define optimizers for your Discriminator (D) and Generator (G)\n",
    "\n",
    "Define optimizers for your models with appropriate hyperparameters."
   ]
  },
  {
   "cell_type": "code",
   "execution_count": 0,
   "metadata": {
    "colab": {},
    "colab_type": "code",
    "id": "8bKSOy1idi87"
   },
   "outputs": [],
   "source": [
    "import torch.optim as optim\n",
    "\n",
    "# Create optimizers for the discriminator D and generator G\n",
    "\n",
    "lr = 0.0002\n",
    "beta1= 0.5\n",
    "beta2 = 0.999\n",
    "\n",
    "d_optimizer = optim.Adam(D.parameters(), lr, betas = (beta1, beta2))\n",
    "g_optimizer = optim.Adam(G.parameters(), lr, betas = (beta1, beta2))"
   ]
  },
  {
   "cell_type": "markdown",
   "metadata": {
    "colab_type": "text",
    "id": "rPN_fTxvdi8-"
   },
   "source": [
    "---\n",
    "## Training\n",
    "\n",
    "Training will involve alternating between training the discriminator and the generator. You'll use your functions `real_loss` and `fake_loss` to help you calculate the discriminator losses.\n",
    "\n",
    "* You should train the discriminator by alternating on real and fake images\n",
    "* Then the generator, which tries to trick the discriminator and should have an opposing loss function\n",
    "\n",
    "\n",
    "#### Saving Samples\n",
    "\n",
    "You've been given some code to print out some loss statistics and save some generated \"fake\" samples."
   ]
  },
  {
   "cell_type": "markdown",
   "metadata": {
    "colab_type": "text",
    "id": "cNAWC_Tfdi9C"
   },
   "source": [
    "#### Exercise: Complete the training function\n",
    "\n",
    "Keep in mind that, if you've moved your models to GPU, you'll also have to move any model inputs to GPU."
   ]
  },
  {
   "cell_type": "code",
   "execution_count": 0,
   "metadata": {
    "colab": {},
    "colab_type": "code",
    "id": "VQOLeOqwdi9D"
   },
   "outputs": [],
   "source": [
    "def train(D, G, n_epochs, print_every=50):\n",
    "    '''Trains adversarial networks for some number of epochs\n",
    "       param, D: the discriminator network\n",
    "       param, G: the generator network\n",
    "       param, n_epochs: number of epochs to train for\n",
    "       param, print_every: when to print and record the models' losses\n",
    "       return: D and G losses'''\n",
    "    \n",
    "    # move models to GPU\n",
    "    if train_on_gpu:\n",
    "        D.cuda()\n",
    "        G.cuda()\n",
    "\n",
    "    # keep track of loss and generated, \"fake\" samples\n",
    "    samples = []\n",
    "    losses = []\n",
    "\n",
    "    # Get some fixed data for sampling. These are images that are held\n",
    "    # constant throughout training, and allow us to inspect the model's performance\n",
    "    sample_size=16\n",
    "    fixed_z = np.random.uniform(-1, 1, size=(sample_size, z_size))\n",
    "    fixed_z = torch.from_numpy(fixed_z).float()\n",
    "    # move z to GPU if available\n",
    "    if train_on_gpu:\n",
    "        fixed_z = fixed_z.cuda()\n",
    "\n",
    "    # epoch training loop\n",
    "    for epoch in range(n_epochs):\n",
    "\n",
    "        # batch training loop\n",
    "        for batch_i, (real_images, _) in enumerate(celeba_train_loader):\n",
    "\n",
    "            batch_size = real_images.size(0)\n",
    "            real_images = scale(real_images)\n",
    "\n",
    "            # ===============================================\n",
    "            #         YOUR CODE HERE: TRAIN THE NETWORKS\n",
    "            # ===============================================\n",
    "            \n",
    "            # 1. Training the discriminator on real and fake images\n",
    "            d_optimizer.zero_grad()\n",
    "            \n",
    "            # Finding Discriminator loss on real images\n",
    "            \n",
    "            if train_on_gpu:\n",
    "                real_images = real_images.cuda()\n",
    "                \n",
    "            D_real = D(real_images)\n",
    "            D_real_loss = real_loss(D_real, smooth=True)\n",
    "                \n",
    "            # Generating Fake images\n",
    "            z = np.random.uniform(-1, 1, size=(batch_size, z_size))\n",
    "            z = torch.from_numpy(z).float()\n",
    "            \n",
    "            if train_on_gpu:\n",
    "                z= z.cuda()\n",
    "                \n",
    "            fake_images = G(z)\n",
    "            \n",
    "            D_fake = D(fake_images)\n",
    "            D_fake_loss = fake_loss(D_fake)\n",
    "\n",
    "            d_loss = D_real_loss + D_fake_loss\n",
    "            d_loss.backward()\n",
    "            d_optimizer.step()\n",
    "\n",
    "            # 2. Training the generator with an adversarial loss\n",
    "            \n",
    "            #Generating Fake images\n",
    "            g_optimizer.zero_grad()\n",
    "            z = np.random.uniform(-1, 1, size = (batch_size, z_size))\n",
    "            z = torch.from_numpy(z).float()\n",
    "            \n",
    "            if train_on_gpu:\n",
    "                z = z.cuda()\n",
    "                \n",
    "            fake_images = G(z)\n",
    "            \n",
    "            D_fake = D(fake_images)\n",
    "            \n",
    "            g_loss = real_loss(D_fake, smooth=True)\n",
    "            \n",
    "            g_loss.backward()\n",
    "            g_optimizer.step()\n",
    "            \n",
    "            \n",
    "            # ===============================================\n",
    "            #              END OF YOUR CODE\n",
    "            # ===============================================\n",
    "\n",
    "            # Print some loss stats\n",
    "            if batch_i % print_every == 0:\n",
    "                # append discriminator loss and generator loss\n",
    "                losses.append((d_loss.item(), g_loss.item()))\n",
    "                # print discriminator and generator loss\n",
    "                print('Epoch [{:5d}/{:5d}] | d_loss: {:6.4f} | g_loss: {:6.4f}'.format(\n",
    "                        epoch+1, n_epochs, d_loss.item(), g_loss.item()))\n",
    "\n",
    "\n",
    "        ## AFTER EACH EPOCH##    \n",
    "        # this code assumes your generator is named G, feel free to change the name\n",
    "        # generate and save sample, fake images\n",
    "        G.eval() # for generating samples\n",
    "        samples_z = G(fixed_z)\n",
    "        samples.append(samples_z)\n",
    "        G.train() # back to training mode\n",
    "\n",
    "    # Save training generator samples\n",
    "    with open('train_samples.pkl', 'wb') as f:\n",
    "        pkl.dump(samples, f)\n",
    "    \n",
    "    # finally return losses\n",
    "    return losses"
   ]
  },
  {
   "cell_type": "markdown",
   "metadata": {
    "colab_type": "text",
    "id": "DFi9S9rMdi9N"
   },
   "source": [
    "Set your number of training epochs and train your GAN!"
   ]
  },
  {
   "cell_type": "code",
   "execution_count": 21,
   "metadata": {
    "colab": {
     "base_uri": "https://localhost:8080/",
     "height": 5262
    },
    "colab_type": "code",
    "id": "anZWdkbqdi9O",
    "outputId": "9ea92b22-eb79-467f-b6e5-d24704694afb"
   },
   "outputs": [
    {
     "name": "stdout",
     "output_type": "stream",
     "text": [
      "Epoch [    1/   20] | d_loss: 1.4475 | g_loss: 1.2733\n",
      "Epoch [    1/   20] | d_loss: 0.4071 | g_loss: 4.8757\n",
      "Epoch [    1/   20] | d_loss: 0.7227 | g_loss: 2.2408\n",
      "Epoch [    1/   20] | d_loss: 0.6750 | g_loss: 3.4634\n",
      "Epoch [    1/   20] | d_loss: 0.7239 | g_loss: 2.7190\n",
      "Epoch [    1/   20] | d_loss: 0.8839 | g_loss: 2.1199\n",
      "Epoch [    1/   20] | d_loss: 0.7505 | g_loss: 1.9007\n",
      "Epoch [    1/   20] | d_loss: 0.8090 | g_loss: 1.9196\n",
      "Epoch [    1/   20] | d_loss: 0.8978 | g_loss: 1.6400\n",
      "Epoch [    1/   20] | d_loss: 0.9493 | g_loss: 1.5388\n",
      "Epoch [    1/   20] | d_loss: 0.8508 | g_loss: 2.6101\n",
      "Epoch [    1/   20] | d_loss: 1.0730 | g_loss: 1.6939\n",
      "Epoch [    1/   20] | d_loss: 0.8459 | g_loss: 2.8730\n",
      "Epoch [    1/   20] | d_loss: 1.1948 | g_loss: 2.9742\n",
      "Epoch [    1/   20] | d_loss: 0.9015 | g_loss: 2.9377\n",
      "Epoch [    2/   20] | d_loss: 0.9321 | g_loss: 1.9410\n",
      "Epoch [    2/   20] | d_loss: 0.8779 | g_loss: 1.5531\n",
      "Epoch [    2/   20] | d_loss: 0.8858 | g_loss: 1.4692\n",
      "Epoch [    2/   20] | d_loss: 0.9993 | g_loss: 2.6282\n",
      "Epoch [    2/   20] | d_loss: 1.0963 | g_loss: 2.2195\n",
      "Epoch [    2/   20] | d_loss: 1.5620 | g_loss: 3.3900\n",
      "Epoch [    2/   20] | d_loss: 1.0163 | g_loss: 1.7763\n",
      "Epoch [    2/   20] | d_loss: 1.0161 | g_loss: 2.4519\n",
      "Epoch [    2/   20] | d_loss: 0.8356 | g_loss: 1.5807\n",
      "Epoch [    2/   20] | d_loss: 0.9428 | g_loss: 2.4646\n",
      "Epoch [    2/   20] | d_loss: 1.0357 | g_loss: 1.5407\n",
      "Epoch [    2/   20] | d_loss: 1.0978 | g_loss: 2.4524\n",
      "Epoch [    2/   20] | d_loss: 0.9801 | g_loss: 1.7794\n",
      "Epoch [    2/   20] | d_loss: 1.0399 | g_loss: 1.2124\n",
      "Epoch [    2/   20] | d_loss: 0.9419 | g_loss: 1.8072\n",
      "Epoch [    3/   20] | d_loss: 0.9637 | g_loss: 1.8844\n",
      "Epoch [    3/   20] | d_loss: 1.0102 | g_loss: 1.7423\n",
      "Epoch [    3/   20] | d_loss: 1.0043 | g_loss: 2.3877\n",
      "Epoch [    3/   20] | d_loss: 1.1882 | g_loss: 0.9445\n",
      "Epoch [    3/   20] | d_loss: 0.8586 | g_loss: 1.5016\n",
      "Epoch [    3/   20] | d_loss: 0.8982 | g_loss: 1.8915\n",
      "Epoch [    3/   20] | d_loss: 0.8803 | g_loss: 1.1680\n",
      "Epoch [    3/   20] | d_loss: 1.0126 | g_loss: 1.5670\n",
      "Epoch [    3/   20] | d_loss: 0.8772 | g_loss: 1.4406\n",
      "Epoch [    3/   20] | d_loss: 0.7975 | g_loss: 1.9430\n",
      "Epoch [    3/   20] | d_loss: 1.0409 | g_loss: 2.3984\n",
      "Epoch [    3/   20] | d_loss: 0.9247 | g_loss: 1.6258\n",
      "Epoch [    3/   20] | d_loss: 1.2712 | g_loss: 1.0912\n",
      "Epoch [    3/   20] | d_loss: 1.1273 | g_loss: 1.2723\n",
      "Epoch [    3/   20] | d_loss: 1.2103 | g_loss: 0.7278\n",
      "Epoch [    4/   20] | d_loss: 1.1534 | g_loss: 2.1813\n",
      "Epoch [    4/   20] | d_loss: 1.0874 | g_loss: 2.4238\n",
      "Epoch [    4/   20] | d_loss: 0.9854 | g_loss: 1.6290\n",
      "Epoch [    4/   20] | d_loss: 0.7340 | g_loss: 2.2057\n",
      "Epoch [    4/   20] | d_loss: 1.1354 | g_loss: 2.3536\n",
      "Epoch [    4/   20] | d_loss: 1.0723 | g_loss: 2.2909\n",
      "Epoch [    4/   20] | d_loss: 0.9208 | g_loss: 1.5110\n",
      "Epoch [    4/   20] | d_loss: 1.1343 | g_loss: 1.2530\n",
      "Epoch [    4/   20] | d_loss: 0.9773 | g_loss: 1.6676\n",
      "Epoch [    4/   20] | d_loss: 0.9732 | g_loss: 1.3030\n",
      "Epoch [    4/   20] | d_loss: 0.8562 | g_loss: 1.6684\n",
      "Epoch [    4/   20] | d_loss: 0.9151 | g_loss: 1.4762\n",
      "Epoch [    4/   20] | d_loss: 0.8896 | g_loss: 1.1060\n",
      "Epoch [    4/   20] | d_loss: 0.8248 | g_loss: 1.7801\n",
      "Epoch [    4/   20] | d_loss: 0.9157 | g_loss: 1.2728\n",
      "Epoch [    5/   20] | d_loss: 1.0309 | g_loss: 2.3353\n",
      "Epoch [    5/   20] | d_loss: 1.0185 | g_loss: 2.3918\n",
      "Epoch [    5/   20] | d_loss: 0.7715 | g_loss: 1.4377\n",
      "Epoch [    5/   20] | d_loss: 0.8490 | g_loss: 1.8805\n",
      "Epoch [    5/   20] | d_loss: 1.0578 | g_loss: 2.2103\n",
      "Epoch [    5/   20] | d_loss: 0.9080 | g_loss: 2.2679\n",
      "Epoch [    5/   20] | d_loss: 0.9384 | g_loss: 1.4561\n",
      "Epoch [    5/   20] | d_loss: 1.0513 | g_loss: 1.2877\n",
      "Epoch [    5/   20] | d_loss: 0.9417 | g_loss: 1.6757\n",
      "Epoch [    5/   20] | d_loss: 1.0248 | g_loss: 2.2741\n",
      "Epoch [    5/   20] | d_loss: 1.3031 | g_loss: 2.2973\n",
      "Epoch [    5/   20] | d_loss: 0.9543 | g_loss: 1.8207\n",
      "Epoch [    5/   20] | d_loss: 0.8422 | g_loss: 2.0898\n",
      "Epoch [    5/   20] | d_loss: 0.9732 | g_loss: 1.8176\n",
      "Epoch [    5/   20] | d_loss: 0.9178 | g_loss: 2.0467\n",
      "Epoch [    6/   20] | d_loss: 1.1416 | g_loss: 3.7823\n",
      "Epoch [    6/   20] | d_loss: 0.9135 | g_loss: 1.8914\n",
      "Epoch [    6/   20] | d_loss: 0.8900 | g_loss: 1.5362\n",
      "Epoch [    6/   20] | d_loss: 0.7047 | g_loss: 2.3426\n",
      "Epoch [    6/   20] | d_loss: 0.9065 | g_loss: 1.9855\n",
      "Epoch [    6/   20] | d_loss: 0.9146 | g_loss: 1.5380\n",
      "Epoch [    6/   20] | d_loss: 0.8238 | g_loss: 1.2076\n",
      "Epoch [    6/   20] | d_loss: 0.8013 | g_loss: 1.3962\n",
      "Epoch [    6/   20] | d_loss: 0.8678 | g_loss: 1.8404\n",
      "Epoch [    6/   20] | d_loss: 0.8765 | g_loss: 1.4180\n",
      "Epoch [    6/   20] | d_loss: 0.9620 | g_loss: 1.6263\n",
      "Epoch [    6/   20] | d_loss: 0.8741 | g_loss: 1.6504\n",
      "Epoch [    6/   20] | d_loss: 0.9117 | g_loss: 2.2006\n",
      "Epoch [    6/   20] | d_loss: 0.8121 | g_loss: 1.5114\n",
      "Epoch [    6/   20] | d_loss: 0.8524 | g_loss: 1.6972\n",
      "Epoch [    7/   20] | d_loss: 0.9111 | g_loss: 1.3097\n",
      "Epoch [    7/   20] | d_loss: 0.9388 | g_loss: 2.1506\n",
      "Epoch [    7/   20] | d_loss: 1.3067 | g_loss: 2.3430\n",
      "Epoch [    7/   20] | d_loss: 1.0614 | g_loss: 1.0540\n",
      "Epoch [    7/   20] | d_loss: 0.9016 | g_loss: 2.1296\n",
      "Epoch [    7/   20] | d_loss: 1.0186 | g_loss: 1.2926\n",
      "Epoch [    7/   20] | d_loss: 0.7966 | g_loss: 2.1985\n",
      "Epoch [    7/   20] | d_loss: 0.7464 | g_loss: 2.0204\n",
      "Epoch [    7/   20] | d_loss: 0.9932 | g_loss: 1.6473\n",
      "Epoch [    7/   20] | d_loss: 0.9696 | g_loss: 2.4491\n",
      "Epoch [    7/   20] | d_loss: 0.8552 | g_loss: 1.4740\n",
      "Epoch [    7/   20] | d_loss: 0.7564 | g_loss: 1.9565\n",
      "Epoch [    7/   20] | d_loss: 0.9893 | g_loss: 1.4124\n",
      "Epoch [    7/   20] | d_loss: 0.9379 | g_loss: 2.1823\n",
      "Epoch [    7/   20] | d_loss: 0.8545 | g_loss: 1.4560\n",
      "Epoch [    8/   20] | d_loss: 0.6526 | g_loss: 2.1328\n",
      "Epoch [    8/   20] | d_loss: 0.9354 | g_loss: 1.6611\n",
      "Epoch [    8/   20] | d_loss: 0.7687 | g_loss: 1.5679\n",
      "Epoch [    8/   20] | d_loss: 0.8173 | g_loss: 1.2923\n",
      "Epoch [    8/   20] | d_loss: 0.8320 | g_loss: 2.1104\n",
      "Epoch [    8/   20] | d_loss: 0.9169 | g_loss: 1.9356\n",
      "Epoch [    8/   20] | d_loss: 0.8248 | g_loss: 1.3850\n",
      "Epoch [    8/   20] | d_loss: 1.1298 | g_loss: 2.6135\n",
      "Epoch [    8/   20] | d_loss: 0.9930 | g_loss: 2.6267\n",
      "Epoch [    8/   20] | d_loss: 0.8459 | g_loss: 1.9359\n",
      "Epoch [    8/   20] | d_loss: 1.1112 | g_loss: 1.0763\n",
      "Epoch [    8/   20] | d_loss: 0.8939 | g_loss: 1.6710\n",
      "Epoch [    8/   20] | d_loss: 0.8903 | g_loss: 1.3612\n",
      "Epoch [    8/   20] | d_loss: 0.8872 | g_loss: 1.9405\n",
      "Epoch [    8/   20] | d_loss: 0.9284 | g_loss: 1.5654\n",
      "Epoch [    9/   20] | d_loss: 0.8475 | g_loss: 1.4378\n",
      "Epoch [    9/   20] | d_loss: 0.7698 | g_loss: 1.4600\n",
      "Epoch [    9/   20] | d_loss: 0.9720 | g_loss: 1.1690\n",
      "Epoch [    9/   20] | d_loss: 1.3336 | g_loss: 2.9716\n",
      "Epoch [    9/   20] | d_loss: 0.9249 | g_loss: 1.3842\n",
      "Epoch [    9/   20] | d_loss: 0.9506 | g_loss: 2.8605\n",
      "Epoch [    9/   20] | d_loss: 1.0687 | g_loss: 1.1108\n",
      "Epoch [    9/   20] | d_loss: 0.7765 | g_loss: 2.4904\n",
      "Epoch [    9/   20] | d_loss: 0.8903 | g_loss: 2.6731\n",
      "Epoch [    9/   20] | d_loss: 0.9442 | g_loss: 0.9467\n",
      "Epoch [    9/   20] | d_loss: 0.8010 | g_loss: 1.2322\n",
      "Epoch [    9/   20] | d_loss: 0.9720 | g_loss: 2.0546\n",
      "Epoch [    9/   20] | d_loss: 0.6609 | g_loss: 2.0595\n",
      "Epoch [    9/   20] | d_loss: 0.8861 | g_loss: 3.3288\n",
      "Epoch [   10/   20] | d_loss: 0.7043 | g_loss: 2.9432\n",
      "Epoch [   10/   20] | d_loss: 0.6976 | g_loss: 2.4311\n",
      "Epoch [   10/   20] | d_loss: 0.9746 | g_loss: 1.9462\n",
      "Epoch [   10/   20] | d_loss: 1.1505 | g_loss: 1.3970\n",
      "Epoch [   10/   20] | d_loss: 0.7544 | g_loss: 1.4912\n",
      "Epoch [   10/   20] | d_loss: 0.9542 | g_loss: 2.7800\n",
      "Epoch [   10/   20] | d_loss: 0.9247 | g_loss: 1.7317\n",
      "Epoch [   10/   20] | d_loss: 0.7726 | g_loss: 2.3507\n",
      "Epoch [   10/   20] | d_loss: 0.8040 | g_loss: 1.5301\n",
      "Epoch [   10/   20] | d_loss: 0.7314 | g_loss: 1.6458\n",
      "Epoch [   10/   20] | d_loss: 0.9563 | g_loss: 3.0595\n",
      "Epoch [   10/   20] | d_loss: 1.1017 | g_loss: 2.5111\n",
      "Epoch [   10/   20] | d_loss: 0.7530 | g_loss: 2.1795\n",
      "Epoch [   10/   20] | d_loss: 1.4428 | g_loss: 0.8186\n",
      "Epoch [   10/   20] | d_loss: 0.8621 | g_loss: 1.4963\n",
      "Epoch [   11/   20] | d_loss: 0.7327 | g_loss: 1.2952\n",
      "Epoch [   11/   20] | d_loss: 0.7765 | g_loss: 1.8444\n",
      "Epoch [   11/   20] | d_loss: 0.8521 | g_loss: 2.1625\n",
      "Epoch [   11/   20] | d_loss: 0.8786 | g_loss: 2.3763\n",
      "Epoch [   11/   20] | d_loss: 0.7405 | g_loss: 1.9744\n",
      "Epoch [   11/   20] | d_loss: 0.9123 | g_loss: 2.2616\n",
      "Epoch [   11/   20] | d_loss: 0.9337 | g_loss: 1.7543\n",
      "Epoch [   11/   20] | d_loss: 0.7996 | g_loss: 2.3087\n",
      "Epoch [   11/   20] | d_loss: 0.6133 | g_loss: 1.2798\n",
      "Epoch [   11/   20] | d_loss: 0.8341 | g_loss: 1.5971\n",
      "Epoch [   11/   20] | d_loss: 0.7527 | g_loss: 1.9658\n",
      "Epoch [   11/   20] | d_loss: 1.1169 | g_loss: 2.7270\n",
      "Epoch [   11/   20] | d_loss: 0.6373 | g_loss: 2.3303\n",
      "Epoch [   11/   20] | d_loss: 0.7528 | g_loss: 1.9661\n",
      "Epoch [   11/   20] | d_loss: 0.7687 | g_loss: 1.9309\n",
      "Epoch [   12/   20] | d_loss: 0.7870 | g_loss: 1.4204\n",
      "Epoch [   12/   20] | d_loss: 1.2618 | g_loss: 0.6533\n",
      "Epoch [   12/   20] | d_loss: 0.7149 | g_loss: 1.5869\n",
      "Epoch [   12/   20] | d_loss: 0.7609 | g_loss: 2.9298\n",
      "Epoch [   12/   20] | d_loss: 0.8349 | g_loss: 1.8739\n",
      "Epoch [   12/   20] | d_loss: 0.7314 | g_loss: 1.8030\n",
      "Epoch [   12/   20] | d_loss: 0.8994 | g_loss: 1.5680\n",
      "Epoch [   12/   20] | d_loss: 0.9399 | g_loss: 2.3619\n",
      "Epoch [   12/   20] | d_loss: 0.6849 | g_loss: 2.6918\n",
      "Epoch [   12/   20] | d_loss: 0.8039 | g_loss: 1.7284\n",
      "Epoch [   12/   20] | d_loss: 0.7411 | g_loss: 1.4800\n",
      "Epoch [   12/   20] | d_loss: 0.9695 | g_loss: 3.0172\n",
      "Epoch [   12/   20] | d_loss: 0.7215 | g_loss: 1.6828\n",
      "Epoch [   12/   20] | d_loss: 0.9342 | g_loss: 1.3801\n",
      "Epoch [   12/   20] | d_loss: 0.9334 | g_loss: 1.4545\n",
      "Epoch [   13/   20] | d_loss: 0.7412 | g_loss: 1.7730\n",
      "Epoch [   13/   20] | d_loss: 1.2025 | g_loss: 3.6040\n",
      "Epoch [   13/   20] | d_loss: 0.7160 | g_loss: 1.3707\n",
      "Epoch [   13/   20] | d_loss: 0.8056 | g_loss: 2.3708\n",
      "Epoch [   13/   20] | d_loss: 0.8168 | g_loss: 1.4711\n",
      "Epoch [   13/   20] | d_loss: 0.6808 | g_loss: 2.5040\n",
      "Epoch [   13/   20] | d_loss: 0.7037 | g_loss: 2.7797\n",
      "Epoch [   13/   20] | d_loss: 0.7604 | g_loss: 1.9892\n",
      "Epoch [   13/   20] | d_loss: 0.9961 | g_loss: 3.1543\n",
      "Epoch [   13/   20] | d_loss: 1.2510 | g_loss: 1.1247\n",
      "Epoch [   13/   20] | d_loss: 0.6728 | g_loss: 2.0130\n",
      "Epoch [   13/   20] | d_loss: 0.7578 | g_loss: 2.2351\n",
      "Epoch [   13/   20] | d_loss: 0.8278 | g_loss: 2.4313\n",
      "Epoch [   13/   20] | d_loss: 0.8559 | g_loss: 1.0849\n",
      "Epoch [   13/   20] | d_loss: 0.6399 | g_loss: 2.4286\n",
      "Epoch [   14/   20] | d_loss: 0.8581 | g_loss: 1.9333\n",
      "Epoch [   14/   20] | d_loss: 0.7088 | g_loss: 1.4787\n",
      "Epoch [   14/   20] | d_loss: 1.3655 | g_loss: 3.1688\n",
      "Epoch [   14/   20] | d_loss: 0.7295 | g_loss: 1.8174\n",
      "Epoch [   14/   20] | d_loss: 1.0852 | g_loss: 1.2763\n",
      "Epoch [   14/   20] | d_loss: 0.7051 | g_loss: 1.8976\n",
      "Epoch [   14/   20] | d_loss: 0.6282 | g_loss: 2.6461\n",
      "Epoch [   14/   20] | d_loss: 0.6766 | g_loss: 1.2670\n",
      "Epoch [   14/   20] | d_loss: 0.7509 | g_loss: 1.2196\n",
      "Epoch [   14/   20] | d_loss: 0.6910 | g_loss: 2.6333\n",
      "Epoch [   14/   20] | d_loss: 0.7452 | g_loss: 2.6079\n",
      "Epoch [   14/   20] | d_loss: 1.0277 | g_loss: 3.5180\n",
      "Epoch [   14/   20] | d_loss: 0.8231 | g_loss: 1.9951\n",
      "Epoch [   14/   20] | d_loss: 0.9382 | g_loss: 2.0388\n",
      "Epoch [   14/   20] | d_loss: 0.8537 | g_loss: 2.1359\n",
      "Epoch [   15/   20] | d_loss: 0.6272 | g_loss: 2.6608\n",
      "Epoch [   15/   20] | d_loss: 1.4784 | g_loss: 0.7614\n",
      "Epoch [   15/   20] | d_loss: 0.7130 | g_loss: 2.5867\n",
      "Epoch [   15/   20] | d_loss: 0.6453 | g_loss: 2.0358\n",
      "Epoch [   15/   20] | d_loss: 0.8332 | g_loss: 2.0068\n",
      "Epoch [   15/   20] | d_loss: 0.8105 | g_loss: 2.1539\n",
      "Epoch [   15/   20] | d_loss: 0.6677 | g_loss: 2.0297\n",
      "Epoch [   15/   20] | d_loss: 0.8944 | g_loss: 2.2363\n",
      "Epoch [   15/   20] | d_loss: 0.7296 | g_loss: 1.8712\n",
      "Epoch [   15/   20] | d_loss: 0.5943 | g_loss: 2.6930\n",
      "Epoch [   15/   20] | d_loss: 0.8454 | g_loss: 1.3797\n",
      "Epoch [   15/   20] | d_loss: 1.1624 | g_loss: 1.5146\n",
      "Epoch [   15/   20] | d_loss: 0.7320 | g_loss: 2.5238\n",
      "Epoch [   15/   20] | d_loss: 0.6558 | g_loss: 2.4803\n",
      "Epoch [   15/   20] | d_loss: 0.8924 | g_loss: 3.3545\n",
      "Epoch [   16/   20] | d_loss: 0.5099 | g_loss: 3.3419\n",
      "Epoch [   16/   20] | d_loss: 0.7437 | g_loss: 2.3327\n",
      "Epoch [   16/   20] | d_loss: 0.6241 | g_loss: 1.9324\n",
      "Epoch [   16/   20] | d_loss: 0.5531 | g_loss: 2.1387\n",
      "Epoch [   16/   20] | d_loss: 0.8442 | g_loss: 3.1618\n",
      "Epoch [   16/   20] | d_loss: 0.7613 | g_loss: 1.5288\n",
      "Epoch [   16/   20] | d_loss: 0.6011 | g_loss: 2.1460\n",
      "Epoch [   16/   20] | d_loss: 0.6314 | g_loss: 2.5704\n",
      "Epoch [   16/   20] | d_loss: 0.6014 | g_loss: 2.2177\n",
      "Epoch [   16/   20] | d_loss: 1.2479 | g_loss: 3.5567\n",
      "Epoch [   16/   20] | d_loss: 0.6455 | g_loss: 1.9533\n",
      "Epoch [   16/   20] | d_loss: 0.5424 | g_loss: 3.4280\n",
      "Epoch [   16/   20] | d_loss: 1.0240 | g_loss: 3.7916\n",
      "Epoch [   16/   20] | d_loss: 0.8106 | g_loss: 1.8283\n",
      "Epoch [   16/   20] | d_loss: 0.9300 | g_loss: 1.7576\n",
      "Epoch [   17/   20] | d_loss: 0.7013 | g_loss: 2.9784\n",
      "Epoch [   17/   20] | d_loss: 0.6378 | g_loss: 2.0969\n",
      "Epoch [   17/   20] | d_loss: 0.6259 | g_loss: 3.2358\n",
      "Epoch [   17/   20] | d_loss: 0.6773 | g_loss: 2.6312\n",
      "Epoch [   17/   20] | d_loss: 0.5568 | g_loss: 2.7512\n",
      "Epoch [   17/   20] | d_loss: 0.6440 | g_loss: 2.4582\n",
      "Epoch [   17/   20] | d_loss: 0.6161 | g_loss: 2.7986\n",
      "Epoch [   17/   20] | d_loss: 1.0842 | g_loss: 1.1568\n",
      "Epoch [   17/   20] | d_loss: 0.6672 | g_loss: 2.9212\n",
      "Epoch [   17/   20] | d_loss: 1.0623 | g_loss: 4.2052\n",
      "Epoch [   17/   20] | d_loss: 0.5827 | g_loss: 2.7056\n",
      "Epoch [   17/   20] | d_loss: 0.5702 | g_loss: 1.5433\n",
      "Epoch [   17/   20] | d_loss: 0.6887 | g_loss: 2.3437\n",
      "Epoch [   17/   20] | d_loss: 0.6920 | g_loss: 2.1600\n",
      "Epoch [   18/   20] | d_loss: 0.6581 | g_loss: 2.7932\n",
      "Epoch [   18/   20] | d_loss: 0.5593 | g_loss: 2.6878\n",
      "Epoch [   18/   20] | d_loss: 0.6039 | g_loss: 2.0260\n",
      "Epoch [   18/   20] | d_loss: 0.6392 | g_loss: 2.8349\n",
      "Epoch [   18/   20] | d_loss: 0.9489 | g_loss: 1.0738\n",
      "Epoch [   18/   20] | d_loss: 0.5532 | g_loss: 3.0567\n",
      "Epoch [   18/   20] | d_loss: 0.6442 | g_loss: 2.2197\n",
      "Epoch [   18/   20] | d_loss: 0.7334 | g_loss: 2.1865\n",
      "Epoch [   18/   20] | d_loss: 0.6885 | g_loss: 1.5656\n",
      "Epoch [   18/   20] | d_loss: 0.6197 | g_loss: 2.1989\n",
      "Epoch [   18/   20] | d_loss: 0.5794 | g_loss: 1.3947\n",
      "Epoch [   18/   20] | d_loss: 0.8011 | g_loss: 1.5418\n",
      "Epoch [   18/   20] | d_loss: 0.7166 | g_loss: 3.0086\n",
      "Epoch [   18/   20] | d_loss: 0.6284 | g_loss: 2.4046\n",
      "Epoch [   18/   20] | d_loss: 0.5350 | g_loss: 2.2870\n",
      "Epoch [   19/   20] | d_loss: 0.7711 | g_loss: 1.2394\n",
      "Epoch [   19/   20] | d_loss: 0.6714 | g_loss: 2.1607\n",
      "Epoch [   19/   20] | d_loss: 0.4883 | g_loss: 2.8761\n",
      "Epoch [   19/   20] | d_loss: 0.5623 | g_loss: 2.3326\n",
      "Epoch [   19/   20] | d_loss: 1.0380 | g_loss: 3.7313\n",
      "Epoch [   19/   20] | d_loss: 0.5569 | g_loss: 2.9212\n",
      "Epoch [   19/   20] | d_loss: 0.6137 | g_loss: 1.8223\n",
      "Epoch [   19/   20] | d_loss: 0.5553 | g_loss: 2.6896\n",
      "Epoch [   19/   20] | d_loss: 1.2476 | g_loss: 1.1812\n",
      "Epoch [   19/   20] | d_loss: 0.6272 | g_loss: 2.2309\n",
      "Epoch [   19/   20] | d_loss: 0.7761 | g_loss: 2.5703\n",
      "Epoch [   19/   20] | d_loss: 0.6829 | g_loss: 1.8990\n",
      "Epoch [   19/   20] | d_loss: 0.6335 | g_loss: 1.6893\n",
      "Epoch [   19/   20] | d_loss: 0.5143 | g_loss: 3.4242\n",
      "Epoch [   19/   20] | d_loss: 0.7358 | g_loss: 2.4253\n",
      "Epoch [   20/   20] | d_loss: 0.5791 | g_loss: 3.0081\n",
      "Epoch [   20/   20] | d_loss: 0.6482 | g_loss: 2.0424\n",
      "Epoch [   20/   20] | d_loss: 1.1252 | g_loss: 1.1166\n",
      "Epoch [   20/   20] | d_loss: 0.5584 | g_loss: 1.8959\n",
      "Epoch [   20/   20] | d_loss: 0.7708 | g_loss: 1.4590\n",
      "Epoch [   20/   20] | d_loss: 0.7094 | g_loss: 2.4599\n",
      "Epoch [   20/   20] | d_loss: 0.7163 | g_loss: 2.8847\n",
      "Epoch [   20/   20] | d_loss: 0.6934 | g_loss: 2.0816\n",
      "Epoch [   20/   20] | d_loss: 0.5605 | g_loss: 1.7977\n",
      "Epoch [   20/   20] | d_loss: 0.6395 | g_loss: 2.0259\n",
      "Epoch [   20/   20] | d_loss: 0.6228 | g_loss: 3.5999\n",
      "Epoch [   20/   20] | d_loss: 0.5631 | g_loss: 3.3592\n",
      "Epoch [   20/   20] | d_loss: 0.5644 | g_loss: 2.6031\n",
      "Epoch [   20/   20] | d_loss: 0.5788 | g_loss: 2.2680\n",
      "Epoch [   20/   20] | d_loss: 0.5140 | g_loss: 2.7085\n"
     ]
    }
   ],
   "source": [
    "# set number of epochs \n",
    "n_epochs = 20\n",
    "\n",
    "\n",
    "\"\"\"\n",
    "DON'T MODIFY ANYTHING IN THIS CELL\n",
    "\"\"\"\n",
    "# call training function\n",
    "losses = train(D, G, n_epochs=n_epochs)"
   ]
  },
  {
   "cell_type": "markdown",
   "metadata": {
    "colab_type": "text",
    "collapsed": true,
    "id": "xNODRuSFdi9S"
   },
   "source": [
    "## Training loss\n",
    "\n",
    "Plot the training losses for the generator and discriminator, recorded after each epoch."
   ]
  },
  {
   "cell_type": "code",
   "execution_count": 22,
   "metadata": {
    "colab": {
     "base_uri": "https://localhost:8080/",
     "height": 299
    },
    "colab_type": "code",
    "id": "4Nt_VPA2di9T",
    "outputId": "d641eee8-e26a-4df4-a9db-b751a4dcef6a"
   },
   "outputs": [
    {
     "data": {
      "text/plain": [
       "<matplotlib.legend.Legend at 0x7ffa22398a58>"
      ]
     },
     "execution_count": 22,
     "metadata": {
      "tags": []
     },
     "output_type": "execute_result"
    },
    {
     "data": {
      "image/png": "[encoded data removed]",
      "text/plain": [
       "<Figure size 432x288 with 1 Axes>"
      ]
     },
     "metadata": {
      "tags": []
     },
     "output_type": "display_data"
    }
   ],
   "source": [
    "fig, ax = plt.subplots()\n",
    "losses = np.array(losses)\n",
    "plt.plot(losses.T[0], label='Discriminator', alpha=0.5)\n",
    "plt.plot(losses.T[1], label='Generator', alpha=0.5)\n",
    "plt.title(\"Training Losses\")\n",
    "plt.legend()"
   ]
  },
  {
   "cell_type": "markdown",
   "metadata": {
    "colab_type": "text",
    "collapsed": true,
    "id": "MMMbEFGidi9V"
   },
   "source": [
    "## Generator samples from training\n",
    "\n",
    "View samples of images from the generator, and answer a question about the strengths and weaknesses of your trained models."
   ]
  },
  {
   "cell_type": "code",
   "execution_count": 0,
   "metadata": {
    "colab": {},
    "colab_type": "code",
    "id": "RPkJrhFVdi9W"
   },
   "outputs": [],
   "source": [
    "# helper function for viewing a list of passed in sample images\n",
    "def view_samples(epoch, samples):\n",
    "    fig, axes = plt.subplots(figsize=(16,4), nrows=2, ncols=8, sharey=True, sharex=True)\n",
    "    for ax, img in zip(axes.flatten(), samples[epoch]):\n",
    "        img = img.detach().cpu().numpy()\n",
    "        img = np.transpose(img, (1, 2, 0))\n",
    "        img = ((img + 1)*255 / (2)).astype(np.uint8)\n",
    "        ax.xaxis.set_visible(False)\n",
    "        ax.yaxis.set_visible(False)\n",
    "        im = ax.imshow(img.reshape((32,32,3)))"
   ]
  },
  {
   "cell_type": "code",
   "execution_count": 0,
   "metadata": {
    "colab": {},
    "colab_type": "code",
    "id": "2nkU6G_Mdi9Z"
   },
   "outputs": [],
   "source": [
    "# Load samples from generator, taken while training\n",
    "with open('train_samples.pkl', 'rb') as f:\n",
    "    samples = pkl.load(f)"
   ]
  },
  {
   "cell_type": "code",
   "execution_count": 25,
   "metadata": {
    "colab": {
     "base_uri": "https://localhost:8080/",
     "height": 244
    },
    "colab_type": "code",
    "id": "OXUKH4sPdi9b",
    "outputId": "72629799-7124-4e5c-8027-892baab57626"
   },
   "outputs": [
    {
     "data": {
      "image/png": "[encoded data removed]",
      "text/plain": [
       "<Figure size 1152x288 with 16 Axes>"
      ]
     },
     "metadata": {
      "tags": []
     },
     "output_type": "display_data"
    }
   ],
   "source": [
    "_ = view_samples(-1, samples)"
   ]
  },
  {
   "cell_type": "markdown",
   "metadata": {
    "colab_type": "text",
    "id": "evkC7gTydi9f"
   },
   "source": [
    "### Question: What do you notice about your generated samples and how might you improve this model?\n",
    "When you answer this question, consider the following factors:\n",
    "* The dataset is biased; it is made of \"celebrity\" faces that are mostly white\n",
    "* Model size; larger models have the opportunity to learn more features in a data feature space\n",
    "* Optimization strategy; optimizers and number of epochs affect your final result\n"
   ]
  },
  {
   "cell_type": "markdown",
   "metadata": {
    "colab_type": "text",
    "id": "Kl5giTE3di9g"
   },
   "source": [
    "**Answer:** \n",
    "\n",
    "* Yes, as you mentioned we may say that the dataset is biased from the sample images printed at the top of the notebook. That might be the reason why most of the generated images are mostly white.\n",
    "* I even observed that adding an extra layer and increasing the depths of convolution layers made the losses to converge to a better loss. I think larger models have the oppertunity to learn more features in the data feature space.\n",
    "* I think using Adam as optimiser yielded good results. The number of epochs also effected the final result.\n",
    "* I think training for larger number of epochs, making the size of model larger and using a more diverse dataset might improve this model."
   ]
  },
  {
   "cell_type": "markdown",
   "metadata": {
    "colab_type": "text",
    "id": "OiEc0zy8di9h"
   },
   "source": [
    "### Submitting This Project\n",
    "When submitting this project, make sure to run all the cells before saving the notebook. Save the notebook file as \"dlnd_face_generation.ipynb\" and save it as a HTML file under \"File\" -> \"Download as\". Include the \"problem_unittests.py\" files in your submission."
   ]
  },
  {
   "cell_type": "code",
   "execution_count": 0,
   "metadata": {
    "colab": {},
    "colab_type": "code",
    "id": "Q1dwb-eLHCf2"
   },
   "outputs": [],
   "source": []
  }
 ],
 "metadata": {
  "accelerator": "GPU",
  "colab": {
   "name": "Copy of dlnd_face_generation.ipynb",
   "provenance": [],
   "toc_visible": true,
   "version": "0.3.2"
  },
  "kernelspec": {
   "display_name": "Python 3",
   "language": "python",
   "name": "python3"
  },
  "language_info": {
   "codemirror_mode": {
    "name": "ipython",
    "version": 3
   },
   "file_extension": ".py",
   "mimetype": "text/x-python",
   "name": "python",
   "nbconvert_exporter": "python",
   "pygments_lexer": "ipython3",
   "version": "3.7.3"
  }
 },
 "nbformat": 4,
 "nbformat_minor": 1
}
